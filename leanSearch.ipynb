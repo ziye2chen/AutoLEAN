{
 "cells": [
  {
   "cell_type": "code",
   "execution_count": null,
   "id": "78d7fe55",
   "metadata": {},
   "outputs": [
    {
     "name": "stdout",
     "output_type": "stream",
     "text": [
      "API Client initialized.\n"
     ]
    }
   ],
   "source": [
    "import asyncio\n",
    "from lean_explore.api.client import Client\n",
    "from lean_explore.cli import config_utils\n",
    "\n",
    "# Load API key (ensure it's configured via CLI or ENV variable)\n",
    "api_key = config_utils.load_api_key()\n",
    "client = Client(api_key=api_key)\n",
    "print(\"API Client initialized.\")"
   ]
  },
  {
   "cell_type": "code",
   "execution_count": 19,
   "id": "e535edd3",
   "metadata": {},
   "outputs": [
    {
     "name": "stdout",
     "output_type": "stream",
     "text": [
      "\n",
      "Found 50 API results for 'To replace `Mathlib.Algebra.BigOperators.Basic -- Provides the `∑ k in S, ...` notation`':\n",
      "  ID: 2323, Name: BigOperators.bigOpBinderParenthesized\n",
      "    File: Mathlib/Algebra/BigOperators/Group/Finset/Defs.lean:101\n",
      "  ID: 2330, Name: BigOperators.bigsum\n",
      "    File: Mathlib/Algebra/BigOperators/Group/Finset/Defs.lean:156\n",
      "  ID: 20639, Name: AddMonoidAlgebra.algebra\n",
      "    File: Mathlib/Algebra/MonoidAlgebra/Basic.lean:387\n",
      "  ID: 2333, Name: BigOperators.bigprodin\n",
      "    File: Mathlib/Algebra/BigOperators/Group/Finset/Defs.lean:206\n",
      "  ID: 2332, Name: BigOperators.bigsumin\n",
      "    File: Mathlib/Algebra/BigOperators/Group/Finset/Defs.lean:203\n",
      "  ID: 205183, Name: Mathlib.Notation3.«termExpand_binders%(_=>_)_,_»\n",
      "    File: Mathlib/Util/Notation3.lean:30\n",
      "  ID: 32772, Name: Star\n",
      "    File: Mathlib/Algebra/Star/Basic.lean:41\n",
      "  ID: 131640, Name: Mathlib.Notation.«term∃!__,_»\n",
      "    File: Mathlib/Logic/ExistsUnique.lean:60\n",
      "  ID: 1841, Name: BigOperators.delabFinsetExpect\n",
      "    File: Mathlib/Algebra/BigOperators/Expect.lean:86\n",
      "  ID: 2335, Name: BigOperators.delabFinsetSum\n",
      "    File: Mathlib/Algebra/BigOperators/Group/Finset/Defs.lean:255\n",
      "ID of the first API result: 2323\n"
     ]
    }
   ],
   "source": [
    "# Define query and limit for displaying results\n",
    "query_str_api = \"\"\"To replace `Mathlib.Algebra.BigOperators.Basic -- Provides the `∑ k in S, ...` notation`\"\"\"\n",
    "display_limit_api = 10\n",
    "\n",
    "# Perform the search (use 'await' in an async context e.g. IPython, Jupyter, or async script)\n",
    "search_response_api = await client.search(query=query_str_api)\n",
    "\n",
    "print(f\"\\nFound {search_response_api.count} API results for '{query_str_api}':\")\n",
    "for item_api in search_response_api.results[:display_limit_api]:\n",
    "    name_api = (item_api.primary_declaration.lean_name\n",
    "                if item_api.primary_declaration else \"N/A\")\n",
    "    print(f\"  ID: {item_api.id}, Name: {name_api}\")\n",
    "    print(f\"    File: {item_api.source_file}:{item_api.range_start_line}\")\n",
    "\n",
    "# Example: Get ID of the first result, assuming results are present\n",
    "api_first_result_id = search_response_api.results[0].id\n",
    "print(f\"ID of the first API result: {api_first_result_id}\")"
   ]
  },
  {
   "cell_type": "code",
   "execution_count": null,
   "id": "7119bbdd",
   "metadata": {},
   "outputs": [],
   "source": []
  }
 ],
 "metadata": {
  "kernelspec": {
   "display_name": "base",
   "language": "python",
   "name": "python3"
  },
  "language_info": {
   "codemirror_mode": {
    "name": "ipython",
    "version": 3
   },
   "file_extension": ".py",
   "mimetype": "text/x-python",
   "name": "python",
   "nbconvert_exporter": "python",
   "pygments_lexer": "ipython3",
   "version": "3.12.7"
  }
 },
 "nbformat": 4,
 "nbformat_minor": 5
}
